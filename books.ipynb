{
 "cells": [
  {
   "cell_type": "code",
   "execution_count": null,
   "metadata": {},
   "outputs": [],
   "source": [
    "from selenium import webdriver\n",
    "from time import sleep\n",
    "from pyquery import PyQuery as pquery\n",
    "driver= webdriver.Chrome(r\"C:\\Users\\pc\\Desktop\\computer_study\\python_install\\chromedriver.exe\")\n",
    "driver.get(\"http://search.books.com.tw/search/query/key/sdf/cat/all\")\n",
    "sleep(2)\n",
    "\n",
    "driver.find_element_by_id(\"key\").clear()\n",
    "driver.find_element_by_id(\"key\").send_keys(\"python\")\n",
    "driver.find_element_by_id(\"key\").submit()\n",
    "\n",
    "sleep(3)\n",
    "\n",
    "html = driver.page_source\n",
    "doc = pquery(html,parser='html')\n",
    "print(doc)\n",
    "driver.quit()\n"
   ]
  },
  {
   "cell_type": "code",
   "execution_count": null,
   "metadata": {},
   "outputs": [],
   "source": [
    "Table = doc('html').find('.searchbook').children().items()\n",
    "\n",
    "print(Table)"
   ]
  },
  {
   "cell_type": "code",
   "execution_count": null,
   "metadata": {},
   "outputs": [],
   "source": [
    "for eachCommodity in Table:\n",
    "    name = eachCommodity('li').find('h3>a').text()\n",
    "    price = eachCommodity('li').find('.price').find('strong').text()\n",
    "    print(\"%s   %s\"%(name,price))\n",
    "    print(\"-------------------------------------------------------------------------\")"
   ]
  }
 ],
 "metadata": {
  "kernelspec": {
   "display_name": "Python 3",
   "language": "python",
   "name": "python3"
  },
  "language_info": {
   "codemirror_mode": {
    "name": "ipython",
    "version": 3
   },
   "file_extension": ".py",
   "mimetype": "text/x-python",
   "name": "python",
   "nbconvert_exporter": "python",
   "pygments_lexer": "ipython3",
   "version": "3.5.0"
  }
 },
 "nbformat": 4,
 "nbformat_minor": 2
}
