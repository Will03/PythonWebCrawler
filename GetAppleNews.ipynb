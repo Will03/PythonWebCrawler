{
 "cells": [
  {
   "cell_type": "code",
   "execution_count": 9,
   "metadata": {},
   "outputs": [
    {
     "name": "stdout",
     "output_type": "stream",
     "text": [
      "鄭爽被爆遭名導威脅性侵　「知名女星」被嗆...(2705)  https://tw.entertainment.appledaily.com/realtime/20180416/1335598/\n",
      "2個阿嬤「意外」同框　《櫻桃小丸子》凸槌...(1941)  https://tw.entertainment.appledaily.com/realtime/20180416/1335478/\n",
      "學士帽是凶器！范冰冰男友被劃破頭噴血(1106)  https://tw.entertainment.appledaily.com/realtime/20180416/1335542/\n",
      "新科影后選對戰袍　穿GA萬人迷(958)  https://tw.entertainment.appledaily.com/realtime/20180416/1335383/\n",
      "徐乃麟尬學生妹當場硬了　揪倒奶主播助拳(2075)  https://tw.entertainment.appledaily.com/realtime/20180416/1335294/\n",
      "巧虎電影場次勝黑豹　網友驚：這太瘋狂了吧(2332)  https://tw.entertainment.appledaily.com/realtime/20180416/1335591/\n",
      "【獨家】妻槓長榮航空遭波及　黃鐙輝慘丟《...(328644)  https://tw.entertainment.appledaily.com/realtime/20180416/1335277/\n",
      "激昂致詞變打臉成龍金句　黃秋生「明年不會...(20942)  https://tw.entertainment.appledaily.com/realtime/20180416/1335420/\n",
      "新加坡打片不受訪　小勞勃破例見「南韓鋼鐵...(1577)  https://tw.entertainment.appledaily.com/realtime/20180416/1335531/\n",
      "《無限挑戰》接檔節目敲定　安七炫珊妮入選...(1321)  https://tw.entertainment.appledaily.com/realtime/20180416/1335329/\n",
      "【狗仔直擊】楊麗菁電梯曖昧攻防　新歡狗公...(111285)  https://tw.entertainment.appledaily.com/realtime/20180416/1335453/\n",
      "小辣椒2嫁暖身露一腿　包戲院開趴A咖全...(4023)  https://tw.entertainment.appledaily.com/realtime/20180416/1335457/\n",
      "明年起月背6萬房貸　陸元琪考慮賣房(7491)  https://tw.entertainment.appledaily.com/realtime/20180416/1335481/\n",
      "《等你下課》20年前就有？周董被釣出還幫...(5195)  https://tw.entertainment.appledaily.com/realtime/20180416/1335416/\n",
      "被大導視為張國榮接班人　青峰傻眼「不是青...(3863)  https://tw.entertainment.appledaily.com/realtime/20180416/1335438/\n",
      "黃秋生打臉成龍　任達華「不能去解讀」(9206)  https://tw.entertainment.appledaily.com/realtime/20180416/1335485/\n",
      "朱茵自洩黃貫中愛的祕密　閃度更勝卡地亞破...(10407)  https://tw.entertainment.appledaily.com/realtime/20180416/1334970/\n",
      "長年不住香港！成龍父子脫節故鄉遭批忘本(45921)  https://tw.entertainment.appledaily.com/realtime/20180416/1335337/\n",
      "先抱後補刀！古天樂接棒黃秋生　「稱帝感言...(249920)  https://tw.entertainment.appledaily.com/realtime/20180416/1335223/\n",
      "逆轉！米可白搶回粉專　硬起來告暴走男粉(33477)  https://tw.entertainment.appledaily.com/realtime/20180416/1335284/\n",
      "徐若瑄不羨慕別人　夫妻戴Tiffany戒...(6192)  https://tw.entertainment.appledaily.com/realtime/20180416/1334971/\n",
      "H奶AV女優想婚引退　不捨！向台灣粉絲致...(17541)  https://tw.entertainment.appledaily.com/realtime/20180416/1335313/\n",
      "黃秋生霸氣發言　網友盛讚：專演人渣的英雄(81224)  https://tw.entertainment.appledaily.com/realtime/20180416/1335210/\n",
      "永別了「魔鬼士官長」！74歲好萊塢男星李...(6915)  https://tw.entertainment.appledaily.com/realtime/20180416/1335368/\n",
      "林志玲想捐就捐！ 單筆善款4600萬網友...(35081)  https://tw.entertainment.appledaily.com/realtime/20180416/1335259/\n",
      "【有片】黃秋生頒獎暗批成龍　網紅讚：太帥...(52955)  https://tw.entertainment.appledaily.com/realtime/20180416/1335215/\n",
      "周杰倫掩護昆凌小腹　新作「不想聽就拉倒」(40344)  https://tw.entertainment.appledaily.com/realtime/20180416/1335238/\n"
     ]
    }
   ],
   "source": [
    "import requests\n",
    "from pyquery import PyQuery as pquery\n",
    "url = r\"https://tw.entertainment.appledaily.com/realtime\"\n",
    "html = requests.get(url)\n",
    "\n",
    "doc = pquery(html.text)\n",
    "\n",
    "# NewsTable = doc(\"html\").find(\".rtddd.slvl\").children().items()\n",
    "NewsTable = doc(\"ul\").filter(\".rtddd.slvl\").children().items()\n",
    "\n",
    "\n",
    "for pqEachNews in NewsTable:\n",
    "    NewsText = pqEachNews(\"li\").find(\"h1\").text()\n",
    "    link = 'https://tw.entertainment.appledaily.com' + pqEachNews(\"li\").find(\"a\").attr('href')\n",
    "    print(\"%s  %s\"%(NewsText,link))"
   ]
  },
  {
   "cell_type": "code",
   "execution_count": null,
   "metadata": {},
   "outputs": [],
   "source": []
  }
 ],
 "metadata": {
  "kernelspec": {
   "display_name": "Python 3",
   "language": "python",
   "name": "python3"
  },
  "language_info": {
   "codemirror_mode": {
    "name": "ipython",
    "version": 3
   },
   "file_extension": ".py",
   "mimetype": "text/x-python",
   "name": "python",
   "nbconvert_exporter": "python",
   "pygments_lexer": "ipython3",
   "version": "3.5.0"
  }
 },
 "nbformat": 4,
 "nbformat_minor": 2
}
