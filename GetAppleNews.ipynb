{
 "cells": [
  {
   "cell_type": "code",
   "execution_count": null,
   "metadata": {},
   "outputs": [],
   "source": [
    "import requests\n",
    "from pyquery import PyQuery as pquery\n",
    "url = r\"https://tw.entertainment.appledaily.com/realtime\"\n",
    "html = requests.get(url)\n",
    "\n",
    "doc = pquery(html.text)\n",
    "\n",
    "# NewsTable = doc(\"html\").find(\".rtddd.slvl\").children().items()\n",
    "NewsTable = doc(\"ul\").filter(\".rtddd.slvl\").children().items()\n",
    "\n",
    "\n",
    "for pqEachNews in NewsTable:\n",
    "    NewsText = pqEachNews(\"li\").find(\"h1\").text()\n",
    "    link = pqEachNews(\"li\").find(\"a\").attr('href')\n",
    "    print(\"%s  %s%s\"%(NewsText,url,link))"
   ]
  },
  {
   "cell_type": "code",
   "execution_count": null,
   "metadata": {},
   "outputs": [],
   "source": []
  }
 ],
 "metadata": {
  "kernelspec": {
   "display_name": "Python 3",
   "language": "python",
   "name": "python3"
  },
  "language_info": {
   "codemirror_mode": {
    "name": "ipython",
    "version": 3
   },
   "file_extension": ".py",
   "mimetype": "text/x-python",
   "name": "python",
   "nbconvert_exporter": "python",
   "pygments_lexer": "ipython3",
   "version": "3.5.0"
  }
 },
 "nbformat": 4,
 "nbformat_minor": 2
}
