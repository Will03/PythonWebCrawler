{
 "cells": [
  {
   "cell_type": "code",
   "execution_count": null,
   "metadata": {},
   "outputs": [],
   "source": [
    "import requests\n",
    "from pyquery import PyQuery as pquery\n",
    "formData = {\n",
    "    'StartStation':'2f940836-cedc-41ef-8e28-c2336ac8fe68',\n",
    "    'EndStation':'977abb69-413a-4ccf-a109-0272c24fd490',\n",
    "    'SearchDate':'2018/04/16',\n",
    "    'SearchTime':'06:30',\n",
    "    'SearchWay':'DepartureInMandarin'\n",
    "}\n",
    "html = requests.post(\"https://www.thsrc.com.tw/tw/TimeTable/SearchResult\",data = formData)\n",
    "doc = pquery(html.text)\n",
    "\n",
    "pqTable = doc(\"html\").find(\".result_table\")\n",
    "pqTable.children().children().eq(0).remove()\n",
    "pqTable.children().children().eq(0).remove()\n",
    "pqTable = pqTable.children().children().items()\n",
    "\n",
    "\n",
    "for pqEachSch in pqTable:\n",
    "    pqSchTable = pqEachSch.find(\".touch_table\").find(\"tr\").children()\n",
    "    number = pqSchTable.eq(0).text()\n",
    "    departureTime = pqSchTable.eq(1).text()\n",
    "    arrivalTime = pqSchTable.eq(2).text()\n",
    "    print(\"車次:%s 出發時間:%s 到達時間:%s\"%(number,departureTime,arrivalTime))\n",
    "        "
   ]
  }
 ],
 "metadata": {
  "kernelspec": {
   "display_name": "Python 3",
   "language": "python",
   "name": "python3"
  },
  "language_info": {
   "codemirror_mode": {
    "name": "ipython",
    "version": 3
   },
   "file_extension": ".py",
   "mimetype": "text/x-python",
   "name": "python",
   "nbconvert_exporter": "python",
   "pygments_lexer": "ipython3",
   "version": "3.5.0"
  }
 },
 "nbformat": 4,
 "nbformat_minor": 2
}
