{
 "cells": [
  {
   "cell_type": "code",
   "execution_count": null,
   "metadata": {},
   "outputs": [],
   "source": [
    "from selenium import webdriver\n",
    "from time import sleep\n",
    "from pyquery import PyQuery as pquery\n",
    "driver= webdriver.Chrome(r\"C:\\Users\\pc\\Desktop\\computer_study\\python_install\\chromedriver.exe\")\n",
    "driver.get(\"http://moodle.ntust.edu.tw/\")\n",
    "sleep(2)\n",
    "\n",
    "driver.find_element_by_id(\"login_username\").clear()\n",
    "driver.find_element_by_id(\"login_username\").send_keys(\"xxxxxxx\")\n",
    "driver.find_element_by_id(\"login_password\").clear()\n",
    "driver.find_element_by_id(\"login_password\").send_keys(\"xxxxxxx\")\n",
    "driver.find_element_by_id(\"login_password\").submit()\n",
    "\n",
    "sleep(3)\n",
    "\n",
    "html = driver.page_source\n",
    "doc = pquery(html,parser='html')\n",
    "print(doc)\n",
    "driver.quit()"
   ]
  }
 ],
 "metadata": {
  "kernelspec": {
   "display_name": "Python 3",
   "language": "python",
   "name": "python3"
  },
  "language_info": {
   "codemirror_mode": {
    "name": "ipython",
    "version": 3
   },
   "file_extension": ".py",
   "mimetype": "text/x-python",
   "name": "python",
   "nbconvert_exporter": "python",
   "pygments_lexer": "ipython3",
   "version": "3.5.0"
  }
 },
 "nbformat": 4,
 "nbformat_minor": 2
}
